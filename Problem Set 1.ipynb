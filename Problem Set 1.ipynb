{
 "cells": [
  {
   "cell_type": "markdown",
   "metadata": {},
   "source": [
    "# Problem Set 1 \n",
    "MOOC 6.001.x"
   ]
  },
  {
   "cell_type": "markdown",
   "metadata": {},
   "source": [
    "### Question 1"
   ]
  },
  {
   "cell_type": "code",
   "execution_count": null,
   "metadata": {},
   "outputs": [],
   "source": [
    "Problem 1\n",
    "10.0/10.0 points (graded)\n",
    "Assume s is a string of lower case characters.\n",
    "\n",
    "Write a program that counts up the number of vowels contained in the string s. Valid vowels are: 'a', 'e', 'i', 'o', and 'u'. For example, if s = 'azcbobobegghakl', your program should print:\n",
    "\n",
    "Number of vowels: 5\n",
    "Code Editor\n",
    "1\n",
    "vowel = 0\n",
    "2\n",
    "for letter in s:\n",
    "3\n",
    "    if letter in ['a', 'e', 'i', 'o','u']:\n",
    "4\n",
    "        vowel +=1\n",
    "5\n",
    "print('Number of vowels:', str(vowel))"
   ]
  },
  {
   "cell_type": "markdown",
   "metadata": {},
   "source": [
    "### Problem 2"
   ]
  },
  {
   "cell_type": "code",
   "execution_count": null,
   "metadata": {},
   "outputs": [],
   "source": [
    "Problem 2\n",
    "10.0/10.0 points (graded)\n",
    "Assume s is a string of lower case characters.\n",
    "\n",
    "Write a program that prints the number of times the string 'bob' occurs in s. For example, if s = 'azcbobobegghakl', then your program should print\n",
    "\n",
    "Number of times bob occurs is: 2\n",
    "Code Editor\n",
    "1\n",
    "bob = 0\n",
    "2\n",
    "for index in range(len(s)-2):\n",
    "3\n",
    "    if s[index]+s[index+1]+s[index+2]=='bob':\n",
    "4\n",
    "        bob +=1\n",
    "5\n",
    "    else:\n",
    "6\n",
    "        bob = bob\n",
    "7\n",
    "print('Number of times bob occurs', str(bob))"
   ]
  },
  {
   "cell_type": "code",
   "execution_count": null,
   "metadata": {},
   "outputs": [],
   "source": [
    "Problem 3"
   ]
  },
  {
   "cell_type": "code",
   "execution_count": null,
   "metadata": {},
   "outputs": [],
   "source": [
    "Problem 3\n",
    "15.0/15.0 points (graded)\n",
    "Assume s is a string of lower case characters.\n",
    "\n",
    "Write a program that prints the longest substring of s in which the letters occur in alphabetical order. For example, if s = 'azcbobobegghakl', then your program should print\n",
    "\n",
    "Longest substring in alphabetical order is: beggh\n",
    "In the case of ties, print the first substring. For example, if s = 'abcbcd', then your program should print\n",
    "\n",
    "Longest substring in alphabetical order is: abc\n",
    "Note: This problem may be challenging. We encourage you to work smart. If you've spent more than a few hours on this problem, we suggest that you move on to a different part of the course. If you have time, come back to this problem after you've had a break and cleared your head.\n",
    "\n",
    "Code Editor\n",
    "1\n",
    "longest =''\n",
    "2\n",
    "string = ''\n",
    "3\n",
    "for index in range(len(s)-1):\n",
    "4\n",
    "    if s[index] <= s[index+1]:\n",
    "5\n",
    "        if len(string)==0:\n",
    "6\n",
    "            string = string +s[index]\n",
    "7\n",
    "        string = string+ s[index+1]\n",
    "8\n",
    "        if len(string)> len(longest):\n",
    "9\n",
    "            longest = string\n",
    "10\n",
    "    else:\n",
    "11\n",
    "        string = ''\n",
    "12\n",
    "if longest =='':\n",
    "13\n",
    "    longest = s[0]\n",
    "14\n",
    "print('Longest substring in alphabetical order is:', str(longest))"
   ]
  },
  {
   "cell_type": "code",
   "execution_count": null,
   "metadata": {},
   "outputs": [],
   "source": []
  },
  {
   "cell_type": "code",
   "execution_count": null,
   "metadata": {},
   "outputs": [],
   "source": []
  }
 ],
 "metadata": {
  "kernelspec": {
   "display_name": "Python 3",
   "language": "python",
   "name": "python3"
  },
  "language_info": {
   "codemirror_mode": {
    "name": "ipython",
    "version": 3
   },
   "file_extension": ".py",
   "mimetype": "text/x-python",
   "name": "python",
   "nbconvert_exporter": "python",
   "pygments_lexer": "ipython3",
   "version": "3.8.2"
  }
 },
 "nbformat": 4,
 "nbformat_minor": 4
}
